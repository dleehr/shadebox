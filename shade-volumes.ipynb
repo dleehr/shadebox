{
 "cells": [
  {
   "cell_type": "code",
   "execution_count": 113,
   "metadata": {},
   "outputs": [],
   "source": [
    "import shade\n",
    "shade.simple_logging(debug=False)\n",
    "cloud = shade.openstack_cloud(cloud='gcb_dev')"
   ]
  },
  {
   "cell_type": "code",
   "execution_count": 114,
   "metadata": {},
   "outputs": [],
   "source": [
    "flavor = cloud.get_flavor_by_ram(4096)"
   ]
  },
  {
   "cell_type": "code",
   "execution_count": 115,
   "metadata": {},
   "outputs": [],
   "source": [
    "image = cloud.get_image('Ubuntu 16.04 64-bit')"
   ]
  },
  {
   "cell_type": "code",
   "execution_count": 116,
   "metadata": {},
   "outputs": [],
   "source": [
    "volume = cloud.create_volume(3000, name='scratch')"
   ]
  },
  {
   "cell_type": "code",
   "execution_count": 117,
   "metadata": {
    "collapsed": true
   },
   "outputs": [],
   "source": [
    "userdata = \"\"\"#cloud-config\n",
    "disk_setup:\n",
    "  /dev/vdb:\n",
    "    table_type: 'gpt'\n",
    "    layout: True\n",
    "fs_setup:\n",
    "  - label: scratch\n",
    "    filesystem: 'ext3'\n",
    "    device: /dev/vdb1\n",
    "mounts:\n",
    " - [ /dev/vdb1, /data ]\n",
    "\"\"\""
   ]
  },
  {
   "cell_type": "code",
   "execution_count": 118,
   "metadata": {},
   "outputs": [],
   "source": [
    "server = cloud.create_server('shadebox', image=image, flavor=flavor, userdata=userdata,\n",
    "                             volumes=[volume], auto_ip=True, network='gcb_dev-private', \n",
    "                             security_groups=['ssh'], key_name='dcl9', wait=True)\n"
   ]
  },
  {
   "cell_type": "code",
   "execution_count": 102,
   "metadata": {},
   "outputs": [
    {
     "data": {
      "text/plain": [
       "False"
      ]
     },
     "execution_count": 102,
     "metadata": {},
     "output_type": "execute_result"
    }
   ],
   "source": [
    "cloud.delete_server(server, wait=True)\n",
    "cloud.delete_volume(volume, wait=True)"
   ]
  },
  {
   "cell_type": "code",
   "execution_count": null,
   "metadata": {
    "collapsed": true
   },
   "outputs": [],
   "source": []
  }
 ],
 "metadata": {
  "kernelspec": {
   "display_name": "Python 2",
   "language": "python",
   "name": "python2"
  },
  "language_info": {
   "codemirror_mode": {
    "name": "ipython",
    "version": 2
   },
   "file_extension": ".py",
   "mimetype": "text/x-python",
   "name": "python",
   "nbconvert_exporter": "python",
   "pygments_lexer": "ipython2",
   "version": "2.7.10"
  }
 },
 "nbformat": 4,
 "nbformat_minor": 2
}
